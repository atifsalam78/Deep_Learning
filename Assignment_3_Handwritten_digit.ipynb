{
 "cells": [
  {
   "cell_type": "code",
   "execution_count": 158,
   "id": "d3efb927-a46b-4abb-94cc-7a9e53b796e7",
   "metadata": {},
   "outputs": [],
   "source": [
    "import numpy as np\n",
    "import matplotlib.pyplot as plt\n",
    "import keras\n",
    "from keras.models import Sequential\n",
    "from keras.layers import Dense, Dropout\n",
    "from keras.utils import to_categorical\n",
    "from sklearn.metrics import confusion_matrix\n",
    "import seaborn as sns\n",
    "import tensorflow as tf"
   ]
  },
  {
   "cell_type": "code",
   "execution_count": 159,
   "id": "5997ee1a-dcaf-496b-b181-1b42515a517d",
   "metadata": {},
   "outputs": [],
   "source": [
    "from keras.datasets import mnist\n",
    "(X_train, y_train), (X_test, y_test) = mnist.load_data()"
   ]
  },
  {
   "cell_type": "code",
   "execution_count": 160,
   "id": "278a1465-d939-46a0-a4ce-0207205c3179",
   "metadata": {},
   "outputs": [
    {
     "name": "stdout",
     "output_type": "stream",
     "text": [
      "(60000, 28, 28) (60000,)\n",
      "(10000, 28, 28) (10000,)\n"
     ]
    }
   ],
   "source": [
    "print(X_train.shape, y_train.shape)\n",
    "print(X_test.shape, y_test.shape)"
   ]
  },
  {
   "cell_type": "code",
   "execution_count": 161,
   "id": "8c44626d-ebf2-4d00-9397-63815e8c5bdd",
   "metadata": {},
   "outputs": [
    {
     "data": {
      "image/png": "[encoded data removed]",
      "text/plain": [
       "<Figure size 640x480 with 1 Axes>"
      ]
     },
     "metadata": {},
     "output_type": "display_data"
    }
   ],
   "source": [
    "random_nr = np.random.randint(0,60000)\n",
    "plt.imshow(X_train[random_nr], cmap=\"grey\")\n",
    "plt.show()"
   ]
  },
  {
   "cell_type": "code",
   "execution_count": 162,
   "id": "91e228a8-612b-4fb1-82df-36df0993acb8",
   "metadata": {},
   "outputs": [
    {
     "data": {
      "image/png": "[encoded data removed]",
      "text/plain": [
       "<Figure size 2000x2000 with 10 Axes>"
      ]
     },
     "metadata": {},
     "output_type": "display_data"
    }
   ],
   "source": [
    "num_classes = 10\n",
    "fig, ax = plt.subplots(1, num_classes, figsize=(20,20))\n",
    "for i in range(num_classes):\n",
    "    sample = X_train[y_train == i][0]\n",
    "    ax[i].imshow(sample, cmap=\"grey\")\n",
    "    ax[i].set_title(f\"Label: {i}\")\n",
    "plt.show()"
   ]
  },
  {
   "cell_type": "markdown",
   "id": "87daf12e-67d7-48e1-ab94-85e80a3ee65c",
   "metadata": {},
   "source": [
    "# Data Preperation"
   ]
  },
  {
   "cell_type": "markdown",
   "id": "d9c4a3c1-6321-4d1f-b395-27eabf78cfa3",
   "metadata": {},
   "source": [
    "## Flatering The Data"
   ]
  },
  {
   "cell_type": "code",
   "execution_count": 165,
   "id": "bc94e410-925c-47f6-a2d9-eb91ab1658ab",
   "metadata": {},
   "outputs": [
    {
     "data": {
      "text/plain": [
       "(60000, 784)"
      ]
     },
     "execution_count": 165,
     "metadata": {},
     "output_type": "execute_result"
    }
   ],
   "source": [
    "X_train_flat = X_train.reshape(len(X_train), 28*28)\n",
    "X_test_flat = X_test.reshape(len(X_test), 28*28)\n",
    "X_train_flat.shape"
   ]
  },
  {
   "cell_type": "code",
   "execution_count": 166,
   "id": "49571e82-fb92-4e7b-a339-deda565be407",
   "metadata": {},
   "outputs": [
    {
     "data": {
      "text/plain": [
       "(10000, 784)"
      ]
     },
     "execution_count": 166,
     "metadata": {},
     "output_type": "execute_result"
    }
   ],
   "source": [
    "X_test_flat.shape"
   ]
  },
  {
   "cell_type": "markdown",
   "id": "2da0e1e1-4f00-470c-94b0-2a3226ef18bc",
   "metadata": {},
   "source": [
    "## Normalize The Data"
   ]
  },
  {
   "cell_type": "code",
   "execution_count": 168,
   "id": "82bfadda-c7a7-4684-8da0-eac5e9be9cfb",
   "metadata": {},
   "outputs": [],
   "source": [
    "X_train_norm = X_train_flat.astype(\"float32\")/255\n",
    "X_test_norm = X_test_flat.astype(\"float32\")/255"
   ]
  },
  {
   "cell_type": "markdown",
   "id": "71e3a444-6ba9-428d-9094-2fdc90bd69d4",
   "metadata": {},
   "source": [
    "## Building The Model"
   ]
  },
  {
   "cell_type": "code",
   "execution_count": 170,
   "id": "1b9882a0-15dd-477d-b7ca-5c6cc1becb6c",
   "metadata": {},
   "outputs": [],
   "source": [
    "model = Sequential(\n",
    "    [\n",
    "        tf.keras.layers.InputLayer((784,)),\n",
    "        tf.keras.layers.Dense(392, activation=\"relu\", name=\"L1\"), # Just a random number, actually 392=784/2. Hidden Layer 1\n",
    "        tf.keras.layers.Dense(196, activation=\"relu\", name=\"L2\"), # 196=392/2. Hidden Layer 2\n",
    "        tf.keras.layers.Dense(49, activation=\"relu\", name=\"L3\"),  # 49=196/2. Hidden Layer 3\n",
    "        tf.keras.layers.Dense(10, activation=\"softmax\", name=\"L4\") # output layer\n",
    "    ], name = \"my_model\"\n",
    ")\n",
    "model.compile(\n",
    "    loss=tf.keras.losses.SparseCategoricalCrossentropy(),\n",
    "    optimizer=tf.keras.optimizers.Adam(learning_rate=0.001),\n",
    "    metrics=['accuracy']\n",
    ")"
   ]
  },
  {
   "cell_type": "markdown",
   "id": "32c03a1c-e0a9-4c3b-900e-0cd0d9f01d32",
   "metadata": {},
   "source": [
    "## Training The Data"
   ]
  },
  {
   "cell_type": "code",
   "execution_count": 172,
   "id": "71eb4b02-aef4-448b-8b9c-4b94d2cda1a7",
   "metadata": {},
   "outputs": [
    {
     "name": "stdout",
     "output_type": "stream",
     "text": [
      "Epoch 1/20\n",
      "1875/1875 [==============================] - 13s 6ms/step - loss: 0.2049 - accuracy: 0.9383\n",
      "Epoch 2/20\n",
      "1875/1875 [==============================] - 13s 7ms/step - loss: 0.0881 - accuracy: 0.9722\n",
      "Epoch 3/20\n",
      "1875/1875 [==============================] - 13s 7ms/step - loss: 0.0621 - accuracy: 0.9802\n",
      "Epoch 4/20\n",
      "1875/1875 [==============================] - 13s 7ms/step - loss: 0.0470 - accuracy: 0.9855\n",
      "Epoch 5/20\n",
      "1875/1875 [==============================] - 13s 7ms/step - loss: 0.0396 - accuracy: 0.9876\n",
      "Epoch 6/20\n",
      "1875/1875 [==============================] - 13s 7ms/step - loss: 0.0317 - accuracy: 0.9894\n",
      "Epoch 7/20\n",
      "1875/1875 [==============================] - 13s 7ms/step - loss: 0.0267 - accuracy: 0.9916\n",
      "Epoch 8/20\n",
      "1875/1875 [==============================] - 13s 7ms/step - loss: 0.0247 - accuracy: 0.9920\n",
      "Epoch 9/20\n",
      "1875/1875 [==============================] - 13s 7ms/step - loss: 0.0192 - accuracy: 0.9939\n",
      "Epoch 10/20\n",
      "1875/1875 [==============================] - 13s 7ms/step - loss: 0.0207 - accuracy: 0.9937\n",
      "Epoch 11/20\n",
      "1875/1875 [==============================] - 13s 7ms/step - loss: 0.0160 - accuracy: 0.9950\n",
      "Epoch 12/20\n",
      "1875/1875 [==============================] - 13s 7ms/step - loss: 0.0174 - accuracy: 0.9949\n",
      "Epoch 13/20\n",
      "1875/1875 [==============================] - 13s 7ms/step - loss: 0.0140 - accuracy: 0.9958\n",
      "Epoch 14/20\n",
      "1875/1875 [==============================] - 13s 7ms/step - loss: 0.0161 - accuracy: 0.9952\n",
      "Epoch 15/20\n",
      "1875/1875 [==============================] - 13s 7ms/step - loss: 0.0138 - accuracy: 0.9959\n",
      "Epoch 16/20\n",
      "1875/1875 [==============================] - 13s 7ms/step - loss: 0.0115 - accuracy: 0.9966\n",
      "Epoch 17/20\n",
      "1875/1875 [==============================] - 13s 7ms/step - loss: 0.0117 - accuracy: 0.9968\n",
      "Epoch 18/20\n",
      "1875/1875 [==============================] - 13s 7ms/step - loss: 0.0117 - accuracy: 0.9965\n",
      "Epoch 19/20\n",
      "1875/1875 [==============================] - 13s 7ms/step - loss: 0.0101 - accuracy: 0.9969\n",
      "Epoch 20/20\n",
      "1875/1875 [==============================] - 13s 7ms/step - loss: 0.0112 - accuracy: 0.9965\n"
     ]
    }
   ],
   "source": [
    "history = model.fit(X_train_norm, y_train, epochs=20)"
   ]
  },
  {
   "cell_type": "markdown",
   "id": "e7375eed-cc99-48ee-a1b1-28d555daa703",
   "metadata": {},
   "source": [
    "## Testing on Test Dataset"
   ]
  },
  {
   "cell_type": "code",
   "execution_count": 174,
   "id": "45559d74-1a74-4818-9625-de5943d586b5",
   "metadata": {},
   "outputs": [
    {
     "name": "stdout",
     "output_type": "stream",
     "text": [
      "313/313 [==============================] - 1s 3ms/step - loss: 0.1093 - accuracy: 0.9810\n"
     ]
    }
   ],
   "source": [
    "loss = model.evaluate(X_test_norm, y_test)"
   ]
  },
  {
   "cell_type": "code",
   "execution_count": 175,
   "id": "f737766e-4747-4928-8119-8018caba2e71",
   "metadata": {},
   "outputs": [
    {
     "name": "stdout",
     "output_type": "stream",
     "text": [
      "Loss: 10.93%\n",
      "Accuracy: 98.1%\n"
     ]
    }
   ],
   "source": [
    "print(f\"Loss: {round(loss[0]*100,2)}%\")\n",
    "print(f\"Accuracy: {round(loss[1]*100,2)}%\")"
   ]
  },
  {
   "cell_type": "code",
   "execution_count": 176,
   "id": "1966deff-4b9e-42b8-9681-44595ad47385",
   "metadata": {},
   "outputs": [
    {
     "name": "stdout",
     "output_type": "stream",
     "text": [
      "Model: \"my_model\"\n",
      "_________________________________________________________________\n",
      " Layer (type)                Output Shape              Param #   \n",
      "=================================================================\n",
      " L1 (Dense)                  (None, 392)               307720    \n",
      "                                                                 \n",
      " L2 (Dense)                  (None, 196)               77028     \n",
      "                                                                 \n",
      " L3 (Dense)                  (None, 49)                9653      \n",
      "                                                                 \n",
      " L4 (Dense)                  (None, 10)                500       \n",
      "                                                                 \n",
      "=================================================================\n",
      "Total params: 394901 (1.51 MB)\n",
      "Trainable params: 394901 (1.51 MB)\n",
      "Non-trainable params: 0 (0.00 Byte)\n",
      "_________________________________________________________________\n"
     ]
    }
   ],
   "source": [
    "model.summary()"
   ]
  },
  {
   "cell_type": "code",
   "execution_count": null,
   "id": "4dd03397-343d-40d2-8dac-07564610df4b",
   "metadata": {},
   "outputs": [],
   "source": []
  }
 ],
 "metadata": {
  "kernelspec": {
   "display_name": "Python 3 (ipykernel)",
   "language": "python",
   "name": "python3"
  },
  "language_info": {
   "codemirror_mode": {
    "name": "ipython",
    "version": 3
   },
   "file_extension": ".py",
   "mimetype": "text/x-python",
   "name": "python",
   "nbconvert_exporter": "python",
   "pygments_lexer": "ipython3",
   "version": "3.11.7"
  }
 },
 "nbformat": 4,
 "nbformat_minor": 5
}
