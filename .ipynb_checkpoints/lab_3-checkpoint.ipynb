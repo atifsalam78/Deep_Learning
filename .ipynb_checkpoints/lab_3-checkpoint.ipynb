{
 "cells": [
  {
   "cell_type": "markdown",
   "id": "9fa8e1b1-4f90-4f9a-8aa0-f5981b040bfe",
   "metadata": {},
   "source": [
    "# Fashion MNIST dataset"
   ]
  },
  {
   "cell_type": "code",
   "execution_count": 297,
   "id": "931d491b-93e6-4d0f-913e-f3ccf4a096ab",
   "metadata": {},
   "outputs": [
    {
     "name": "stdout",
     "output_type": "stream",
     "text": [
      "2.13.1\n"
     ]
    }
   ],
   "source": [
    "import tensorflow as tf\n",
    "print(tf.__version__)"
   ]
  },
  {
   "cell_type": "code",
   "execution_count": 298,
   "id": "5b6e753a-a67f-4a9f-b4c6-f51319c5eefa",
   "metadata": {},
   "outputs": [],
   "source": [
    "fmnist = tf.keras.datasets.fashion_mnist"
   ]
  },
  {
   "cell_type": "code",
   "execution_count": 299,
   "id": "0272ed61-c9af-4e05-8c13-1069daa75c62",
   "metadata": {},
   "outputs": [
    {
     "data": {
      "text/plain": [
       "<module 'keras.api._v2.keras.datasets.fashion_mnist' from 'C:\\\\Users\\\\atif\\\\anaconda3\\\\Lib\\\\site-packages\\\\keras\\\\api\\\\_v2\\\\keras\\\\datasets\\\\fashion_mnist\\\\__init__.py'>"
      ]
     },
     "execution_count": 299,
     "metadata": {},
     "output_type": "execute_result"
    }
   ],
   "source": [
    "fmnist"
   ]
  },
  {
   "cell_type": "code",
   "execution_count": 300,
   "id": "5b144551-2448-4c05-bb37-0b23bbd3cea4",
   "metadata": {},
   "outputs": [],
   "source": [
    "(training_images, training_labels), (test_images, test_labels) = fmnist.load_data()"
   ]
  },
  {
   "cell_type": "code",
   "execution_count": 301,
   "id": "b8d8e5f8-8c07-4f8f-bd45-28be5c3effd1",
   "metadata": {},
   "outputs": [
    {
     "name": "stdout",
     "output_type": "stream",
     "text": [
      "Label: 0\n",
      "Image Pixel Array:\n",
      " [[  0   0   0   0   0   0   0  12  62  82 180 177 105  93  98 169 207 146  75  44   0   0   0   0   0   0   0   0]\n",
      " [  0   0   0   0   0  63 113 137 132 105  97 217 238 242 242 207 148  88 111 133 132  82   1   0   0   0   0   0]\n",
      " [  0   0   0   0  75 142 107  92  90  96  93  62  70  84  73  61  68  95  99  92  97 137 121   0   0   0   0   0]\n",
      " [  0   0   0  11 117  93  93 102 100  99 102 102  96  88  90 103 103  98 100 103  99  95 122  63   0   0   0   0]\n",
      " [  0   0   0  51 124  99 103 100 102  97  98  99 102 103 100 102 100  99  99 100 100 102 117 111   0   0   0   0]\n",
      " [  0   0   0  76 115 100 103 102 100 100 102 103 103 100  99 104 103 102 100  99  98 100 107 134   3   0   0   0]\n",
      " [  0   0   0 105 106 103 102  99  98  97  98  99  99 100  99 105 105 100 100 102  99 107 108 142  40   0   0   0]\n",
      " [  0   0  13 114 106  99 110  97  99  99 102 102 103 104 104 105 107 102 105 102  92 103 108 139  81   0   0   0]\n",
      " [  0   0  46 112 106 107 146  95 108 111 111 112 113 111 111 113 114 114 113  88 100 148 112 129 114   0   0   0]\n",
      " [  0   0  79  98 107 132 165  78 112 119 114 117 117 115 114 117 117 113 107  81 185 175 122 122 126  13   0   0]\n",
      " [  0   0 117 120 121 133 231 125  91 114 112 113 114 113 112 115 115 114 106  59 255 153 126 126 143  64   0   0]\n",
      " [  0   0  15  59 121 156 178 119  90 111 108 110 110 111 111 115 114 122 107  79 212 166 146 119  67   2   0   0]\n",
      " [  0   0   0   0   0   0   0 103  93 112 110 111 113 112 112 118 112 110  96 107  98   0   0   0   0   0   0   0]\n",
      " [  0   0   1   0   0   0   0 108  93 110 111 113 115 113 112 117 117 104 107 104  82   0   0   0   0   0   0   0]\n",
      " [  0   0   0   0   0   0   0  97 100 108 112 113 117 113 113 117 121 104  95 113  62   0   2   0   1   0   0   0]\n",
      " [  0   0   0   0   1   0   0  96 104 108 112 108 114 111 112 113 118 118  89 106  49   0   0   0   0   0   0   0]\n",
      " [  0   0   0   0   1   0   0  96 103 106 115 114 113 113 114 115 115 121  93 103  48   0   1   0   0   0   0   0]\n",
      " [  0   0   0   0   1   0   0  96 103 110 115 113 117 117 115 115 114 118 105 105  45   0   1   0   0   0   0   0]\n",
      " [  0   0   0   0   1   0   0  96 105 108 112 110 117 115 117 115 115 120 115 111  38   0   1   0   0   0   0   0]\n",
      " [  0   0   0   0   1   0   0  96 108 110 115 117 118 112 118 117 115 117 112 117  45   0   1   0   0   0   0   0]\n",
      " [  0   0   0   0   1   0   0  97 103 107 112 114 117 114 117 115 115 115 112 114  51   0   0   0   0   0   0   0]\n",
      " [  0   0   0   0   1   0   0 103 102 108 113 114 117 117 119 114 114 113 111 111  60   0   0   0   0   0   0   0]\n",
      " [  0   0   0   0   0   0   0 105 100 110 113 114 115 113 117 114 117 112 111 110  57   0   0   0   0   0   0   0]\n",
      " [  0   0   0   0   0   0  16  99 106 110 112 114 112 117 118 113 115 111 104 104  89   0   0   0   2   0   0   0]\n",
      " [  0   0   0   0   2   0  57 107 108 110 112 113 113 115 115 110 108 106 110  99  98   4   0   0   0   0   0   0]\n",
      " [  0   0   0   0   2   0  30 121  97 107 108 111 110 110 112 110 112 110 100 108  76   0   0   1   1   0   0   0]\n",
      " [  0   0   0   0   0   0   0  98 135 117 121 120 118 120 120 118 119 125 127 127  23   0   1   0   1   0   0   0]\n",
      " [  0   0   0   0   0   0   0   0  52  79  84  85  85  85  85  85  88  76  59  20   0   0   0   0   0   0   0   0]]\n"
     ]
    }
   ],
   "source": [
    "import numpy as np\n",
    "import matplotlib.pyplot as plt\n",
    "\n",
    "index = 0\n",
    "\n",
    "np.set_printoptions(linewidth=320)\n",
    "random_nr = np.random.randint(0,60000)\n",
    "print(f\"Label: {training_labels[random_nr]}\")\n",
    "print(f\"Image Pixel Array:\\n {training_images[random_nr]}\")\n",
    "\n"
   ]
  },
  {
   "cell_type": "code",
   "execution_count": 302,
   "id": "b72b6ab4-9602-4821-9a56-77796ea1d7b0",
   "metadata": {},
   "outputs": [
    {
     "data": {
      "text/plain": [
       "<matplotlib.image.AxesImage at 0x1e04ac6a6d0>"
      ]
     },
     "execution_count": 302,
     "metadata": {},
     "output_type": "execute_result"
    },
    {
     "data": {
      "image/png": "[encoded data removed]",
      "text/plain": [
       "<Figure size 640x480 with 1 Axes>"
      ]
     },
     "metadata": {},
     "output_type": "display_data"
    }
   ],
   "source": [
    "\n",
    "plt.imshow(training_images[random_nr])\n"
   ]
  },
  {
   "cell_type": "code",
   "execution_count": 303,
   "id": "d527020f-bf5a-4784-a117-684ff4d073e4",
   "metadata": {},
   "outputs": [],
   "source": [
    "training_images = training_images / 255\n",
    "test_images = test_images / 255"
   ]
  },
  {
   "cell_type": "code",
   "execution_count": null,
   "id": "85ac0c34-feaa-4792-81fa-b177961b0031",
   "metadata": {},
   "outputs": [],
   "source": []
  },
  {
   "cell_type": "code",
   "execution_count": null,
   "id": "e7829411-f99b-4f55-b009-c41b9cd810ae",
   "metadata": {},
   "outputs": [],
   "source": []
  }
 ],
 "metadata": {
  "kernelspec": {
   "display_name": "Python 3 (ipykernel)",
   "language": "python",
   "name": "python3"
  },
  "language_info": {
   "codemirror_mode": {
    "name": "ipython",
    "version": 3
   },
   "file_extension": ".py",
   "mimetype": "text/x-python",
   "name": "python",
   "nbconvert_exporter": "python",
   "pygments_lexer": "ipython3",
   "version": "3.11.7"
  }
 },
 "nbformat": 4,
 "nbformat_minor": 5
}
