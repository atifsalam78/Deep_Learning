{
 "cells": [
  {
   "cell_type": "markdown",
   "id": "2b337fec-5592-42d6-8214-7701d6c00b9f",
   "metadata": {},
   "source": [
    "# Import Libraries"
   ]
  },
  {
   "cell_type": "code",
   "execution_count": 206,
   "id": "17a9abc4-07c6-4c9f-a857-a99247fdf9bc",
   "metadata": {},
   "outputs": [
    {
     "name": "stdout",
     "output_type": "stream",
     "text": [
      "1.24.3\n",
      "2.2.2\n"
     ]
    }
   ],
   "source": [
    "import numpy as np\n",
    "import pandas as pd\n",
    "print(np.__version__)\n",
    "print(pd.__version__)"
   ]
  },
  {
   "cell_type": "markdown",
   "id": "9a04f5b2-f341-4e73-a341-55860e276ba7",
   "metadata": {},
   "source": [
    "# Read Data"
   ]
  },
  {
   "cell_type": "code",
   "execution_count": 208,
   "id": "89f0b1da-00a5-4b33-b1f1-8f213ca89cc1",
   "metadata": {},
   "outputs": [],
   "source": [
    "churn = pd.read_csv(\"Churn_Modelling.csv\")"
   ]
  },
  {
   "cell_type": "code",
   "execution_count": 209,
   "id": "f6e1b14c-c31c-4e76-b723-12b4238472c8",
   "metadata": {},
   "outputs": [
    {
     "data": {
      "text/html": [
       "<div>\n",
       "<style scoped>\n",
       "    .dataframe tbody tr th:only-of-type {\n",
       "        vertical-align: middle;\n",
       "    }\n",
       "\n",
       "    .dataframe tbody tr th {\n",
       "        vertical-align: top;\n",
       "    }\n",
       "\n",
       "    .dataframe thead th {\n",
       "        text-align: right;\n",
       "    }\n",
       "</style>\n",
       "<table border=\"1\" class=\"dataframe\">\n",
       "  <thead>\n",
       "    <tr style=\"text-align: right;\">\n",
       "      <th></th>\n",
       "      <th>RowNumber</th>\n",
       "      <th>CustomerId</th>\n",
       "      <th>Surname</th>\n",
       "      <th>CreditScore</th>\n",
       "      <th>Geography</th>\n",
       "      <th>Gender</th>\n",
       "      <th>Age</th>\n",
       "      <th>Tenure</th>\n",
       "      <th>Balance</th>\n",
       "      <th>NumOfProducts</th>\n",
       "      <th>HasCrCard</th>\n",
       "      <th>IsActiveMember</th>\n",
       "      <th>EstimatedSalary</th>\n",
       "      <th>Exited</th>\n",
       "    </tr>\n",
       "  </thead>\n",
       "  <tbody>\n",
       "    <tr>\n",
       "      <th>0</th>\n",
       "      <td>1</td>\n",
       "      <td>15634602</td>\n",
       "      <td>Hargrave</td>\n",
       "      <td>619</td>\n",
       "      <td>France</td>\n",
       "      <td>Female</td>\n",
       "      <td>42</td>\n",
       "      <td>2</td>\n",
       "      <td>0.00</td>\n",
       "      <td>1</td>\n",
       "      <td>1</td>\n",
       "      <td>1</td>\n",
       "      <td>101348.88</td>\n",
       "      <td>1</td>\n",
       "    </tr>\n",
       "    <tr>\n",
       "      <th>1</th>\n",
       "      <td>2</td>\n",
       "      <td>15647311</td>\n",
       "      <td>Hill</td>\n",
       "      <td>608</td>\n",
       "      <td>Spain</td>\n",
       "      <td>Female</td>\n",
       "      <td>41</td>\n",
       "      <td>1</td>\n",
       "      <td>83807.86</td>\n",
       "      <td>1</td>\n",
       "      <td>0</td>\n",
       "      <td>1</td>\n",
       "      <td>112542.58</td>\n",
       "      <td>0</td>\n",
       "    </tr>\n",
       "    <tr>\n",
       "      <th>2</th>\n",
       "      <td>3</td>\n",
       "      <td>15619304</td>\n",
       "      <td>Onio</td>\n",
       "      <td>502</td>\n",
       "      <td>France</td>\n",
       "      <td>Female</td>\n",
       "      <td>42</td>\n",
       "      <td>8</td>\n",
       "      <td>159660.80</td>\n",
       "      <td>3</td>\n",
       "      <td>1</td>\n",
       "      <td>0</td>\n",
       "      <td>113931.57</td>\n",
       "      <td>1</td>\n",
       "    </tr>\n",
       "    <tr>\n",
       "      <th>3</th>\n",
       "      <td>4</td>\n",
       "      <td>15701354</td>\n",
       "      <td>Boni</td>\n",
       "      <td>699</td>\n",
       "      <td>France</td>\n",
       "      <td>Female</td>\n",
       "      <td>39</td>\n",
       "      <td>1</td>\n",
       "      <td>0.00</td>\n",
       "      <td>2</td>\n",
       "      <td>0</td>\n",
       "      <td>0</td>\n",
       "      <td>93826.63</td>\n",
       "      <td>0</td>\n",
       "    </tr>\n",
       "    <tr>\n",
       "      <th>4</th>\n",
       "      <td>5</td>\n",
       "      <td>15737888</td>\n",
       "      <td>Mitchell</td>\n",
       "      <td>850</td>\n",
       "      <td>Spain</td>\n",
       "      <td>Female</td>\n",
       "      <td>43</td>\n",
       "      <td>2</td>\n",
       "      <td>125510.82</td>\n",
       "      <td>1</td>\n",
       "      <td>1</td>\n",
       "      <td>1</td>\n",
       "      <td>79084.10</td>\n",
       "      <td>0</td>\n",
       "    </tr>\n",
       "  </tbody>\n",
       "</table>\n",
       "</div>"
      ],
      "text/plain": [
       "   RowNumber  CustomerId   Surname  CreditScore Geography  Gender  Age  \\\n",
       "0          1    15634602  Hargrave          619    France  Female   42   \n",
       "1          2    15647311      Hill          608     Spain  Female   41   \n",
       "2          3    15619304      Onio          502    France  Female   42   \n",
       "3          4    15701354      Boni          699    France  Female   39   \n",
       "4          5    15737888  Mitchell          850     Spain  Female   43   \n",
       "\n",
       "   Tenure    Balance  NumOfProducts  HasCrCard  IsActiveMember  \\\n",
       "0       2       0.00              1          1               1   \n",
       "1       1   83807.86              1          0               1   \n",
       "2       8  159660.80              3          1               0   \n",
       "3       1       0.00              2          0               0   \n",
       "4       2  125510.82              1          1               1   \n",
       "\n",
       "   EstimatedSalary  Exited  \n",
       "0        101348.88       1  \n",
       "1        112542.58       0  \n",
       "2        113931.57       1  \n",
       "3         93826.63       0  \n",
       "4         79084.10       0  "
      ]
     },
     "execution_count": 209,
     "metadata": {},
     "output_type": "execute_result"
    }
   ],
   "source": [
    "churn.head()"
   ]
  },
  {
   "cell_type": "markdown",
   "id": "51e1e268-7117-41e7-bb7a-03c513fdf4d9",
   "metadata": {},
   "source": [
    "# Drop Unnecessary columns"
   ]
  },
  {
   "cell_type": "code",
   "execution_count": 211,
   "id": "bf2bf8a7-b882-4d3d-ae46-f0c2ad7e03cb",
   "metadata": {},
   "outputs": [],
   "source": [
    "churn.drop(columns=[\"RowNumber\", \"CustomerId\", \"Surname\"], inplace=True)"
   ]
  },
  {
   "cell_type": "code",
   "execution_count": 212,
   "id": "75881291-6faf-465c-8519-c07db8784e00",
   "metadata": {},
   "outputs": [
    {
     "data": {
      "text/html": [
       "<div>\n",
       "<style scoped>\n",
       "    .dataframe tbody tr th:only-of-type {\n",
       "        vertical-align: middle;\n",
       "    }\n",
       "\n",
       "    .dataframe tbody tr th {\n",
       "        vertical-align: top;\n",
       "    }\n",
       "\n",
       "    .dataframe thead th {\n",
       "        text-align: right;\n",
       "    }\n",
       "</style>\n",
       "<table border=\"1\" class=\"dataframe\">\n",
       "  <thead>\n",
       "    <tr style=\"text-align: right;\">\n",
       "      <th></th>\n",
       "      <th>CreditScore</th>\n",
       "      <th>Geography</th>\n",
       "      <th>Gender</th>\n",
       "      <th>Age</th>\n",
       "      <th>Tenure</th>\n",
       "      <th>Balance</th>\n",
       "      <th>NumOfProducts</th>\n",
       "      <th>HasCrCard</th>\n",
       "      <th>IsActiveMember</th>\n",
       "      <th>EstimatedSalary</th>\n",
       "      <th>Exited</th>\n",
       "    </tr>\n",
       "  </thead>\n",
       "  <tbody>\n",
       "    <tr>\n",
       "      <th>0</th>\n",
       "      <td>619</td>\n",
       "      <td>France</td>\n",
       "      <td>Female</td>\n",
       "      <td>42</td>\n",
       "      <td>2</td>\n",
       "      <td>0.00</td>\n",
       "      <td>1</td>\n",
       "      <td>1</td>\n",
       "      <td>1</td>\n",
       "      <td>101348.88</td>\n",
       "      <td>1</td>\n",
       "    </tr>\n",
       "    <tr>\n",
       "      <th>1</th>\n",
       "      <td>608</td>\n",
       "      <td>Spain</td>\n",
       "      <td>Female</td>\n",
       "      <td>41</td>\n",
       "      <td>1</td>\n",
       "      <td>83807.86</td>\n",
       "      <td>1</td>\n",
       "      <td>0</td>\n",
       "      <td>1</td>\n",
       "      <td>112542.58</td>\n",
       "      <td>0</td>\n",
       "    </tr>\n",
       "    <tr>\n",
       "      <th>2</th>\n",
       "      <td>502</td>\n",
       "      <td>France</td>\n",
       "      <td>Female</td>\n",
       "      <td>42</td>\n",
       "      <td>8</td>\n",
       "      <td>159660.80</td>\n",
       "      <td>3</td>\n",
       "      <td>1</td>\n",
       "      <td>0</td>\n",
       "      <td>113931.57</td>\n",
       "      <td>1</td>\n",
       "    </tr>\n",
       "    <tr>\n",
       "      <th>3</th>\n",
       "      <td>699</td>\n",
       "      <td>France</td>\n",
       "      <td>Female</td>\n",
       "      <td>39</td>\n",
       "      <td>1</td>\n",
       "      <td>0.00</td>\n",
       "      <td>2</td>\n",
       "      <td>0</td>\n",
       "      <td>0</td>\n",
       "      <td>93826.63</td>\n",
       "      <td>0</td>\n",
       "    </tr>\n",
       "    <tr>\n",
       "      <th>4</th>\n",
       "      <td>850</td>\n",
       "      <td>Spain</td>\n",
       "      <td>Female</td>\n",
       "      <td>43</td>\n",
       "      <td>2</td>\n",
       "      <td>125510.82</td>\n",
       "      <td>1</td>\n",
       "      <td>1</td>\n",
       "      <td>1</td>\n",
       "      <td>79084.10</td>\n",
       "      <td>0</td>\n",
       "    </tr>\n",
       "  </tbody>\n",
       "</table>\n",
       "</div>"
      ],
      "text/plain": [
       "   CreditScore Geography  Gender  Age  Tenure    Balance  NumOfProducts  \\\n",
       "0          619    France  Female   42       2       0.00              1   \n",
       "1          608     Spain  Female   41       1   83807.86              1   \n",
       "2          502    France  Female   42       8  159660.80              3   \n",
       "3          699    France  Female   39       1       0.00              2   \n",
       "4          850     Spain  Female   43       2  125510.82              1   \n",
       "\n",
       "   HasCrCard  IsActiveMember  EstimatedSalary  Exited  \n",
       "0          1               1        101348.88       1  \n",
       "1          0               1        112542.58       0  \n",
       "2          1               0        113931.57       1  \n",
       "3          0               0         93826.63       0  \n",
       "4          1               1         79084.10       0  "
      ]
     },
     "execution_count": 212,
     "metadata": {},
     "output_type": "execute_result"
    }
   ],
   "source": [
    "churn.head()"
   ]
  },
  {
   "cell_type": "code",
   "execution_count": 213,
   "id": "4f1f3bd7-5f65-45ae-9d7e-ed909542933c",
   "metadata": {},
   "outputs": [
    {
     "data": {
      "text/plain": [
       "Geography\n",
       "France     5014\n",
       "Germany    2509\n",
       "Spain      2477\n",
       "Name: count, dtype: int64"
      ]
     },
     "execution_count": 213,
     "metadata": {},
     "output_type": "execute_result"
    }
   ],
   "source": [
    "churn.Geography.value_counts()"
   ]
  },
  {
   "cell_type": "markdown",
   "id": "d5216206-36e3-462d-a7d1-5a97b8cef6bb",
   "metadata": {},
   "source": [
    "# Convert categorical columns into numerical columns using one-hot encoding"
   ]
  },
  {
   "cell_type": "code",
   "execution_count": 215,
   "id": "de7f5b7b-0932-4c3d-9955-0ecbeec6b632",
   "metadata": {},
   "outputs": [],
   "source": [
    "churn = pd.get_dummies(churn, columns=[\"Geography\", \"Gender\"], drop_first=True, dtype=\"int\")"
   ]
  },
  {
   "cell_type": "code",
   "execution_count": 216,
   "id": "271aeb47-8fcd-48b9-91c6-fc667d3b8774",
   "metadata": {},
   "outputs": [
    {
     "data": {
      "text/html": [
       "<div>\n",
       "<style scoped>\n",
       "    .dataframe tbody tr th:only-of-type {\n",
       "        vertical-align: middle;\n",
       "    }\n",
       "\n",
       "    .dataframe tbody tr th {\n",
       "        vertical-align: top;\n",
       "    }\n",
       "\n",
       "    .dataframe thead th {\n",
       "        text-align: right;\n",
       "    }\n",
       "</style>\n",
       "<table border=\"1\" class=\"dataframe\">\n",
       "  <thead>\n",
       "    <tr style=\"text-align: right;\">\n",
       "      <th></th>\n",
       "      <th>CreditScore</th>\n",
       "      <th>Age</th>\n",
       "      <th>Tenure</th>\n",
       "      <th>Balance</th>\n",
       "      <th>NumOfProducts</th>\n",
       "      <th>HasCrCard</th>\n",
       "      <th>IsActiveMember</th>\n",
       "      <th>EstimatedSalary</th>\n",
       "      <th>Exited</th>\n",
       "      <th>Geography_Germany</th>\n",
       "      <th>Geography_Spain</th>\n",
       "      <th>Gender_Male</th>\n",
       "    </tr>\n",
       "  </thead>\n",
       "  <tbody>\n",
       "    <tr>\n",
       "      <th>0</th>\n",
       "      <td>619</td>\n",
       "      <td>42</td>\n",
       "      <td>2</td>\n",
       "      <td>0.00</td>\n",
       "      <td>1</td>\n",
       "      <td>1</td>\n",
       "      <td>1</td>\n",
       "      <td>101348.88</td>\n",
       "      <td>1</td>\n",
       "      <td>0</td>\n",
       "      <td>0</td>\n",
       "      <td>0</td>\n",
       "    </tr>\n",
       "    <tr>\n",
       "      <th>1</th>\n",
       "      <td>608</td>\n",
       "      <td>41</td>\n",
       "      <td>1</td>\n",
       "      <td>83807.86</td>\n",
       "      <td>1</td>\n",
       "      <td>0</td>\n",
       "      <td>1</td>\n",
       "      <td>112542.58</td>\n",
       "      <td>0</td>\n",
       "      <td>0</td>\n",
       "      <td>1</td>\n",
       "      <td>0</td>\n",
       "    </tr>\n",
       "    <tr>\n",
       "      <th>2</th>\n",
       "      <td>502</td>\n",
       "      <td>42</td>\n",
       "      <td>8</td>\n",
       "      <td>159660.80</td>\n",
       "      <td>3</td>\n",
       "      <td>1</td>\n",
       "      <td>0</td>\n",
       "      <td>113931.57</td>\n",
       "      <td>1</td>\n",
       "      <td>0</td>\n",
       "      <td>0</td>\n",
       "      <td>0</td>\n",
       "    </tr>\n",
       "    <tr>\n",
       "      <th>3</th>\n",
       "      <td>699</td>\n",
       "      <td>39</td>\n",
       "      <td>1</td>\n",
       "      <td>0.00</td>\n",
       "      <td>2</td>\n",
       "      <td>0</td>\n",
       "      <td>0</td>\n",
       "      <td>93826.63</td>\n",
       "      <td>0</td>\n",
       "      <td>0</td>\n",
       "      <td>0</td>\n",
       "      <td>0</td>\n",
       "    </tr>\n",
       "    <tr>\n",
       "      <th>4</th>\n",
       "      <td>850</td>\n",
       "      <td>43</td>\n",
       "      <td>2</td>\n",
       "      <td>125510.82</td>\n",
       "      <td>1</td>\n",
       "      <td>1</td>\n",
       "      <td>1</td>\n",
       "      <td>79084.10</td>\n",
       "      <td>0</td>\n",
       "      <td>0</td>\n",
       "      <td>1</td>\n",
       "      <td>0</td>\n",
       "    </tr>\n",
       "    <tr>\n",
       "      <th>...</th>\n",
       "      <td>...</td>\n",
       "      <td>...</td>\n",
       "      <td>...</td>\n",
       "      <td>...</td>\n",
       "      <td>...</td>\n",
       "      <td>...</td>\n",
       "      <td>...</td>\n",
       "      <td>...</td>\n",
       "      <td>...</td>\n",
       "      <td>...</td>\n",
       "      <td>...</td>\n",
       "      <td>...</td>\n",
       "    </tr>\n",
       "    <tr>\n",
       "      <th>9995</th>\n",
       "      <td>771</td>\n",
       "      <td>39</td>\n",
       "      <td>5</td>\n",
       "      <td>0.00</td>\n",
       "      <td>2</td>\n",
       "      <td>1</td>\n",
       "      <td>0</td>\n",
       "      <td>96270.64</td>\n",
       "      <td>0</td>\n",
       "      <td>0</td>\n",
       "      <td>0</td>\n",
       "      <td>1</td>\n",
       "    </tr>\n",
       "    <tr>\n",
       "      <th>9996</th>\n",
       "      <td>516</td>\n",
       "      <td>35</td>\n",
       "      <td>10</td>\n",
       "      <td>57369.61</td>\n",
       "      <td>1</td>\n",
       "      <td>1</td>\n",
       "      <td>1</td>\n",
       "      <td>101699.77</td>\n",
       "      <td>0</td>\n",
       "      <td>0</td>\n",
       "      <td>0</td>\n",
       "      <td>1</td>\n",
       "    </tr>\n",
       "    <tr>\n",
       "      <th>9997</th>\n",
       "      <td>709</td>\n",
       "      <td>36</td>\n",
       "      <td>7</td>\n",
       "      <td>0.00</td>\n",
       "      <td>1</td>\n",
       "      <td>0</td>\n",
       "      <td>1</td>\n",
       "      <td>42085.58</td>\n",
       "      <td>1</td>\n",
       "      <td>0</td>\n",
       "      <td>0</td>\n",
       "      <td>0</td>\n",
       "    </tr>\n",
       "    <tr>\n",
       "      <th>9998</th>\n",
       "      <td>772</td>\n",
       "      <td>42</td>\n",
       "      <td>3</td>\n",
       "      <td>75075.31</td>\n",
       "      <td>2</td>\n",
       "      <td>1</td>\n",
       "      <td>0</td>\n",
       "      <td>92888.52</td>\n",
       "      <td>1</td>\n",
       "      <td>1</td>\n",
       "      <td>0</td>\n",
       "      <td>1</td>\n",
       "    </tr>\n",
       "    <tr>\n",
       "      <th>9999</th>\n",
       "      <td>792</td>\n",
       "      <td>28</td>\n",
       "      <td>4</td>\n",
       "      <td>130142.79</td>\n",
       "      <td>1</td>\n",
       "      <td>1</td>\n",
       "      <td>0</td>\n",
       "      <td>38190.78</td>\n",
       "      <td>0</td>\n",
       "      <td>0</td>\n",
       "      <td>0</td>\n",
       "      <td>0</td>\n",
       "    </tr>\n",
       "  </tbody>\n",
       "</table>\n",
       "<p>10000 rows × 12 columns</p>\n",
       "</div>"
      ],
      "text/plain": [
       "      CreditScore  Age  Tenure    Balance  NumOfProducts  HasCrCard  \\\n",
       "0             619   42       2       0.00              1          1   \n",
       "1             608   41       1   83807.86              1          0   \n",
       "2             502   42       8  159660.80              3          1   \n",
       "3             699   39       1       0.00              2          0   \n",
       "4             850   43       2  125510.82              1          1   \n",
       "...           ...  ...     ...        ...            ...        ...   \n",
       "9995          771   39       5       0.00              2          1   \n",
       "9996          516   35      10   57369.61              1          1   \n",
       "9997          709   36       7       0.00              1          0   \n",
       "9998          772   42       3   75075.31              2          1   \n",
       "9999          792   28       4  130142.79              1          1   \n",
       "\n",
       "      IsActiveMember  EstimatedSalary  Exited  Geography_Germany  \\\n",
       "0                  1        101348.88       1                  0   \n",
       "1                  1        112542.58       0                  0   \n",
       "2                  0        113931.57       1                  0   \n",
       "3                  0         93826.63       0                  0   \n",
       "4                  1         79084.10       0                  0   \n",
       "...              ...              ...     ...                ...   \n",
       "9995               0         96270.64       0                  0   \n",
       "9996               1        101699.77       0                  0   \n",
       "9997               1         42085.58       1                  0   \n",
       "9998               0         92888.52       1                  1   \n",
       "9999               0         38190.78       0                  0   \n",
       "\n",
       "      Geography_Spain  Gender_Male  \n",
       "0                   0            0  \n",
       "1                   1            0  \n",
       "2                   0            0  \n",
       "3                   0            0  \n",
       "4                   1            0  \n",
       "...               ...          ...  \n",
       "9995                0            1  \n",
       "9996                0            1  \n",
       "9997                0            0  \n",
       "9998                0            1  \n",
       "9999                0            0  \n",
       "\n",
       "[10000 rows x 12 columns]"
      ]
     },
     "execution_count": 216,
     "metadata": {},
     "output_type": "execute_result"
    }
   ],
   "source": [
    "churn"
   ]
  },
  {
   "cell_type": "markdown",
   "id": "d9289d00-e189-4c62-8ef0-f3954ee24cc4",
   "metadata": {},
   "source": [
    "# Separate Input Columns and Output Columns"
   ]
  },
  {
   "cell_type": "code",
   "execution_count": 218,
   "id": "8ef86e81-4389-4093-8331-345551291106",
   "metadata": {},
   "outputs": [],
   "source": [
    "X = churn.drop(columns=[\"Exited\"]) # Input Columns\n",
    "y = churn[\"Exited\"] # Predicted Columns"
   ]
  },
  {
   "cell_type": "code",
   "execution_count": 219,
   "id": "80542487-7e6e-4dca-90d5-4235db05092e",
   "metadata": {},
   "outputs": [],
   "source": [
    "from sklearn.model_selection import train_test_split\n",
    "X_train, X_test, y_train, y_test = train_test_split(X,y, test_size=0.2, random_state=42)"
   ]
  },
  {
   "cell_type": "markdown",
   "id": "553b0420-703c-4505-bbaa-0767d14754ce",
   "metadata": {},
   "source": [
    "# Scalling the data"
   ]
  },
  {
   "cell_type": "code",
   "execution_count": 221,
   "id": "2c42805a-419c-48ab-b43d-2aecd5803516",
   "metadata": {},
   "outputs": [],
   "source": [
    "from sklearn.preprocessing import StandardScaler\n",
    "scaler = StandardScaler()\n",
    "x_train_transform = scaler.fit_transform(X_train)\n",
    "x_test_transform = scaler.transform(X_test)"
   ]
  },
  {
   "cell_type": "markdown",
   "id": "416514cc-f0ae-445a-8ea2-3299db7d6869",
   "metadata": {},
   "source": [
    "# Creating neural network (ANN)"
   ]
  },
  {
   "cell_type": "code",
   "execution_count": 223,
   "id": "58005383-0b78-47c9-8304-d2c379b82aa1",
   "metadata": {},
   "outputs": [],
   "source": [
    "import tensorflow as tf\n",
    "from tensorflow import keras\n",
    "from tensorflow.keras import Sequential\n",
    "from tensorflow.keras.layers import Dense"
   ]
  },
  {
   "cell_type": "code",
   "execution_count": 224,
   "id": "740d6b08-1ebf-493d-ac6f-1f66b94df4d5",
   "metadata": {},
   "outputs": [],
   "source": [
    "model = Sequential()\n",
    "\n",
    "model.add(Dense(3, activation=\"relu\", input_dim=11)) # 1st hidden layer\n",
    "model.add(Dense(3, activation=\"relu\")) # 2nd hidden layer\n",
    "model.add(Dense(1, activation=\"sigmoid\")) # output layer"
   ]
  },
  {
   "cell_type": "code",
   "execution_count": 225,
   "id": "b53283a8-68c0-46ae-8852-ca3ec741ca12",
   "metadata": {},
   "outputs": [
    {
     "name": "stdout",
     "output_type": "stream",
     "text": [
      "Model: \"sequential_3\"\n",
      "_________________________________________________________________\n",
      " Layer (type)                Output Shape              Param #   \n",
      "=================================================================\n",
      " dense_9 (Dense)             (None, 3)                 36        \n",
      "                                                                 \n",
      " dense_10 (Dense)            (None, 3)                 12        \n",
      "                                                                 \n",
      " dense_11 (Dense)            (None, 1)                 4         \n",
      "                                                                 \n",
      "=================================================================\n",
      "Total params: 52 (208.00 Byte)\n",
      "Trainable params: 52 (208.00 Byte)\n",
      "Non-trainable params: 0 (0.00 Byte)\n",
      "_________________________________________________________________\n"
     ]
    }
   ],
   "source": [
    "model.summary()"
   ]
  },
  {
   "cell_type": "code",
   "execution_count": 226,
   "id": "ea5e4146-29c2-4d0d-9632-62c2c6221f71",
   "metadata": {},
   "outputs": [],
   "source": [
    "model.compile(optimizer=\"Adam\", loss=\"binary_crossentropy\", metrics=[\"accuracy\"])"
   ]
  },
  {
   "cell_type": "markdown",
   "id": "33e4ce47-c796-4683-9d09-a855d3779f43",
   "metadata": {},
   "source": [
    "# Train Model"
   ]
  },
  {
   "cell_type": "code",
   "execution_count": 228,
   "id": "3aec5e38-f3a3-4ae6-8b2f-1dc17c50658e",
   "metadata": {},
   "outputs": [
    {
     "name": "stdout",
     "output_type": "stream",
     "text": [
      "Epoch 1/30\n",
      "128/128 [==============================] - 1s 3ms/step - loss: 4189.0767 - accuracy: 0.5111 - val_loss: 2603.5378 - val_accuracy: 0.5312\n",
      "Epoch 2/30\n",
      "128/128 [==============================] - 0s 2ms/step - loss: 1599.7534 - accuracy: 0.5300 - val_loss: 908.6925 - val_accuracy: 0.5306\n",
      "Epoch 3/30\n",
      "128/128 [==============================] - 0s 2ms/step - loss: 470.7385 - accuracy: 0.5322 - val_loss: 179.7540 - val_accuracy: 0.5294\n",
      "Epoch 4/30\n",
      "128/128 [==============================] - 0s 2ms/step - loss: 43.2126 - accuracy: 0.6359 - val_loss: 0.8978 - val_accuracy: 0.7700\n",
      "Epoch 5/30\n",
      "128/128 [==============================] - 0s 2ms/step - loss: 0.9065 - accuracy: 0.7659 - val_loss: 0.8262 - val_accuracy: 0.7731\n",
      "Epoch 6/30\n",
      "128/128 [==============================] - 0s 2ms/step - loss: 0.8412 - accuracy: 0.7691 - val_loss: 0.7688 - val_accuracy: 0.7756\n",
      "Epoch 7/30\n",
      "128/128 [==============================] - 0s 2ms/step - loss: 0.7884 - accuracy: 0.7711 - val_loss: 0.7217 - val_accuracy: 0.7800\n",
      "Epoch 8/30\n",
      "128/128 [==============================] - 0s 2ms/step - loss: 0.7441 - accuracy: 0.7730 - val_loss: 0.6867 - val_accuracy: 0.7825\n",
      "Epoch 9/30\n",
      "128/128 [==============================] - 0s 2ms/step - loss: 0.7058 - accuracy: 0.7744 - val_loss: 0.6560 - val_accuracy: 0.7831\n",
      "Epoch 10/30\n",
      "128/128 [==============================] - 0s 2ms/step - loss: 0.6733 - accuracy: 0.7759 - val_loss: 0.6284 - val_accuracy: 0.7844\n",
      "Epoch 11/30\n",
      "128/128 [==============================] - 0s 2ms/step - loss: 0.6457 - accuracy: 0.7773 - val_loss: 0.6056 - val_accuracy: 0.7856\n",
      "Epoch 12/30\n",
      "128/128 [==============================] - 0s 2ms/step - loss: 0.6225 - accuracy: 0.7795 - val_loss: 0.5864 - val_accuracy: 0.7869\n",
      "Epoch 13/30\n",
      "128/128 [==============================] - 0s 2ms/step - loss: 0.6037 - accuracy: 0.7812 - val_loss: 0.5720 - val_accuracy: 0.7881\n",
      "Epoch 14/30\n",
      "128/128 [==============================] - 0s 2ms/step - loss: 0.5881 - accuracy: 0.7822 - val_loss: 0.5608 - val_accuracy: 0.7900\n",
      "Epoch 15/30\n",
      "128/128 [==============================] - 0s 2ms/step - loss: 0.5753 - accuracy: 0.7833 - val_loss: 0.5516 - val_accuracy: 0.7906\n",
      "Epoch 16/30\n",
      "128/128 [==============================] - 0s 2ms/step - loss: 0.5644 - accuracy: 0.7841 - val_loss: 0.5440 - val_accuracy: 0.7912\n",
      "Epoch 17/30\n",
      "128/128 [==============================] - 0s 2ms/step - loss: 0.5551 - accuracy: 0.7848 - val_loss: 0.5385 - val_accuracy: 0.7919\n",
      "Epoch 18/30\n",
      "128/128 [==============================] - 0s 2ms/step - loss: 0.5471 - accuracy: 0.7861 - val_loss: 0.5337 - val_accuracy: 0.7925\n",
      "Epoch 19/30\n",
      "128/128 [==============================] - 0s 2ms/step - loss: 0.5404 - accuracy: 0.7866 - val_loss: 0.5297 - val_accuracy: 0.7931\n",
      "Epoch 20/30\n",
      "128/128 [==============================] - 0s 2ms/step - loss: 0.5346 - accuracy: 0.7877 - val_loss: 0.5256 - val_accuracy: 0.7931\n",
      "Epoch 21/30\n",
      "128/128 [==============================] - 0s 2ms/step - loss: 0.5299 - accuracy: 0.7883 - val_loss: 0.5221 - val_accuracy: 0.7931\n",
      "Epoch 22/30\n",
      "128/128 [==============================] - 0s 2ms/step - loss: 0.5259 - accuracy: 0.7884 - val_loss: 0.5193 - val_accuracy: 0.7931\n",
      "Epoch 23/30\n",
      "128/128 [==============================] - 0s 2ms/step - loss: 0.5225 - accuracy: 0.7886 - val_loss: 0.5168 - val_accuracy: 0.7937\n",
      "Epoch 24/30\n",
      "128/128 [==============================] - 0s 2ms/step - loss: 0.5195 - accuracy: 0.7900 - val_loss: 0.5160 - val_accuracy: 0.7956\n",
      "Epoch 25/30\n",
      "128/128 [==============================] - 0s 2ms/step - loss: 0.5172 - accuracy: 0.7898 - val_loss: 0.5150 - val_accuracy: 0.7944\n",
      "Epoch 26/30\n",
      "128/128 [==============================] - 0s 2ms/step - loss: 0.5153 - accuracy: 0.7903 - val_loss: 0.5148 - val_accuracy: 0.7937\n",
      "Epoch 27/30\n",
      "128/128 [==============================] - 0s 2ms/step - loss: 0.5139 - accuracy: 0.7908 - val_loss: 0.5134 - val_accuracy: 0.7937\n",
      "Epoch 28/30\n",
      "128/128 [==============================] - 0s 2ms/step - loss: 0.5129 - accuracy: 0.7911 - val_loss: 0.5122 - val_accuracy: 0.7944\n",
      "Epoch 29/30\n",
      "128/128 [==============================] - 0s 2ms/step - loss: 0.5119 - accuracy: 0.7917 - val_loss: 0.5104 - val_accuracy: 0.7944\n",
      "Epoch 30/30\n",
      "128/128 [==============================] - 0s 2ms/step - loss: 0.5111 - accuracy: 0.7919 - val_loss: 0.5089 - val_accuracy: 0.7944\n"
     ]
    }
   ],
   "source": [
    "history = model.fit(X_train,y_train, batch_size=50, epochs=30, verbose=1, validation_split=0.2)"
   ]
  },
  {
   "cell_type": "code",
   "execution_count": null,
   "id": "2ed24ffa-4778-407f-a2f5-9ecd4fa7b8e4",
   "metadata": {},
   "outputs": [],
   "source": []
  },
  {
   "cell_type": "code",
   "execution_count": 229,
   "id": "3fbdc2b4-ce29-4768-8234-884c98d412a1",
   "metadata": {},
   "outputs": [
    {
     "name": "stdout",
     "output_type": "stream",
     "text": [
      "63/63 [==============================] - 0s 1ms/step\n"
     ]
    }
   ],
   "source": [
    "y_pred = model.predict(X_test)"
   ]
  },
  {
   "cell_type": "code",
   "execution_count": 230,
   "id": "6d20d87f-acd9-43e4-923a-03cd33baae60",
   "metadata": {},
   "outputs": [
    {
     "data": {
      "text/plain": [
       "array([[0.20488212],\n",
       "       [0.20488212],\n",
       "       [0.20488212],\n",
       "       ...,\n",
       "       [0.20488212],\n",
       "       [0.20488212],\n",
       "       [0.20488212]], dtype=float32)"
      ]
     },
     "execution_count": 230,
     "metadata": {},
     "output_type": "execute_result"
    }
   ],
   "source": [
    "y_pred"
   ]
  },
  {
   "cell_type": "code",
   "execution_count": 231,
   "id": "4d0d04d1-442c-4ab2-be52-951c4a9191aa",
   "metadata": {},
   "outputs": [
    {
     "data": {
      "text/plain": [
       "[array([[-0.48831332,  0.04415772,  0.03694373],\n",
       "        [-0.547632  , -0.01182717,  0.59861434],\n",
       "        [ 0.48073363, -0.61717486, -0.0316726 ],\n",
       "        [-0.13634712, -0.47625396, -0.4712773 ],\n",
       "        [ 0.31790793, -0.08460159, -0.3641446 ],\n",
       "        [ 0.01358688,  0.03306086, -0.33297652],\n",
       "        [ 0.30550385,  0.02897296, -0.07845397],\n",
       "        [-0.12148577, -0.01139128, -0.16387793],\n",
       "        [-0.6169033 , -0.5198651 ,  0.15816498],\n",
       "        [-0.15018374,  0.13039902,  0.0542112 ],\n",
       "        [-0.3358865 , -0.17658342, -0.37670863]], dtype=float32),\n",
       " array([ 0.        , -0.4470464 ,  0.02555757], dtype=float32)]"
      ]
     },
     "execution_count": 231,
     "metadata": {},
     "output_type": "execute_result"
    }
   ],
   "source": [
    "model.layers[0].get_weights()"
   ]
  },
  {
   "cell_type": "code",
   "execution_count": 232,
   "id": "9b4ced91-0743-4db7-a66c-360ccd82b7b5",
   "metadata": {},
   "outputs": [
    {
     "name": "stdout",
     "output_type": "stream",
     "text": [
      "63/63 [==============================] - 0s 1ms/step\n"
     ]
    }
   ],
   "source": [
    "y_log = model.predict(x_test_transform)"
   ]
  },
  {
   "cell_type": "markdown",
   "id": "491a6cfb-6a28-4038-8418-e50add9a986c",
   "metadata": {},
   "source": [
    "# Threshold"
   ]
  },
  {
   "cell_type": "code",
   "execution_count": 234,
   "id": "9e2660f0-41d9-41c3-a1dc-d20ffa361dd8",
   "metadata": {},
   "outputs": [],
   "source": [
    "y_pred = np.where(y_log>0.5,1,0)"
   ]
  },
  {
   "cell_type": "code",
   "execution_count": 235,
   "id": "e509af02-713c-41cf-a854-51d2a7852dfe",
   "metadata": {},
   "outputs": [],
   "source": [
    "# y_pred = y_pred.argmax(axis=1)"
   ]
  },
  {
   "cell_type": "code",
   "execution_count": 236,
   "id": "8bb237f7-ab5b-499a-9374-abb082a8aff2",
   "metadata": {},
   "outputs": [
    {
     "data": {
      "text/plain": [
       "0.8035"
      ]
     },
     "execution_count": 236,
     "metadata": {},
     "output_type": "execute_result"
    }
   ],
   "source": [
    "from sklearn.metrics import accuracy_score\n",
    "accuracy_score(y_test, y_pred)"
   ]
  },
  {
   "cell_type": "code",
   "execution_count": 268,
   "id": "67e9a11f-b841-4d38-aff1-6be6e56fc272",
   "metadata": {},
   "outputs": [
    {
     "data": {
      "text/plain": [
       "{'loss': [4189.07666015625,\n",
       "  1599.75341796875,\n",
       "  470.738525390625,\n",
       "  43.21257019042969,\n",
       "  0.906521737575531,\n",
       "  0.8411870002746582,\n",
       "  0.7884214520454407,\n",
       "  0.744086503982544,\n",
       "  0.7057566046714783,\n",
       "  0.6732646226882935,\n",
       "  0.6456903219223022,\n",
       "  0.6225433945655823,\n",
       "  0.6036853790283203,\n",
       "  0.5881041288375854,\n",
       "  0.5752780437469482,\n",
       "  0.5643697381019592,\n",
       "  0.5551373362541199,\n",
       "  0.5471349358558655,\n",
       "  0.5403658151626587,\n",
       "  0.5345796346664429,\n",
       "  0.5298811197280884,\n",
       "  0.5259214639663696,\n",
       "  0.5224924683570862,\n",
       "  0.5195472240447998,\n",
       "  0.5171806812286377,\n",
       "  0.5153058171272278,\n",
       "  0.5139181017875671,\n",
       "  0.5128893852233887,\n",
       "  0.5119186639785767,\n",
       "  0.5111193656921387],\n",
       " 'accuracy': [0.5110937356948853,\n",
       "  0.5299999713897705,\n",
       "  0.5321875214576721,\n",
       "  0.635937511920929,\n",
       "  0.7659375071525574,\n",
       "  0.7690625190734863,\n",
       "  0.7710937261581421,\n",
       "  0.7729687690734863,\n",
       "  0.7743750214576721,\n",
       "  0.7759374976158142,\n",
       "  0.77734375,\n",
       "  0.7795312404632568,\n",
       "  0.78125,\n",
       "  0.7821875214576721,\n",
       "  0.7832812666893005,\n",
       "  0.7840625047683716,\n",
       "  0.7848437428474426,\n",
       "  0.7860937714576721,\n",
       "  0.7865625023841858,\n",
       "  0.7876562476158142,\n",
       "  0.788281261920929,\n",
       "  0.7884374856948853,\n",
       "  0.7885937690734863,\n",
       "  0.7900000214576721,\n",
       "  0.789843738079071,\n",
       "  0.7903125286102295,\n",
       "  0.7907812595367432,\n",
       "  0.7910937666893005,\n",
       "  0.7917187213897705,\n",
       "  0.7918750047683716],\n",
       " 'val_loss': [2603.537841796875,\n",
       "  908.6925048828125,\n",
       "  179.7540283203125,\n",
       "  0.8977599143981934,\n",
       "  0.8262442946434021,\n",
       "  0.768816351890564,\n",
       "  0.7216982245445251,\n",
       "  0.6866860389709473,\n",
       "  0.6559740304946899,\n",
       "  0.628408670425415,\n",
       "  0.6056122183799744,\n",
       "  0.5863990783691406,\n",
       "  0.5719500184059143,\n",
       "  0.560755729675293,\n",
       "  0.551597535610199,\n",
       "  0.5439630746841431,\n",
       "  0.5385271906852722,\n",
       "  0.533703625202179,\n",
       "  0.5297364592552185,\n",
       "  0.5256443023681641,\n",
       "  0.5220974087715149,\n",
       "  0.5193028450012207,\n",
       "  0.5167722105979919,\n",
       "  0.5159703493118286,\n",
       "  0.5150312185287476,\n",
       "  0.5148417949676514,\n",
       "  0.5134491920471191,\n",
       "  0.5121515393257141,\n",
       "  0.5103937387466431,\n",
       "  0.50894695520401],\n",
       " 'val_accuracy': [0.53125,\n",
       "  0.5306249856948853,\n",
       "  0.5293750166893005,\n",
       "  0.7699999809265137,\n",
       "  0.7731249928474426,\n",
       "  0.7756249904632568,\n",
       "  0.7799999713897705,\n",
       "  0.7825000286102295,\n",
       "  0.7831249833106995,\n",
       "  0.784375011920929,\n",
       "  0.7856249809265137,\n",
       "  0.7868750095367432,\n",
       "  0.7881249785423279,\n",
       "  0.7900000214576721,\n",
       "  0.7906249761581421,\n",
       "  0.7912499904632568,\n",
       "  0.7918750047683716,\n",
       "  0.7925000190734863,\n",
       "  0.7931249737739563,\n",
       "  0.7931249737739563,\n",
       "  0.7931249737739563,\n",
       "  0.7931249737739563,\n",
       "  0.793749988079071,\n",
       "  0.7956249713897705,\n",
       "  0.7943750023841858,\n",
       "  0.793749988079071,\n",
       "  0.793749988079071,\n",
       "  0.7943750023841858,\n",
       "  0.7943750023841858,\n",
       "  0.7943750023841858]}"
      ]
     },
     "execution_count": 268,
     "metadata": {},
     "output_type": "execute_result"
    }
   ],
   "source": [
    "history.history"
   ]
  },
  {
   "cell_type": "code",
   "execution_count": 237,
   "id": "d9da7d4e-c9f6-4924-95b3-c1cd39e94c20",
   "metadata": {},
   "outputs": [
    {
     "data": {
      "text/plain": [
       "[<matplotlib.lines.Line2D at 0x205eecacfd0>]"
      ]
     },
     "execution_count": 237,
     "metadata": {},
     "output_type": "execute_result"
    },
    {
     "data": {
      "image/png": "[encoded data removed]",
      "text/plain": [
       "<Figure size 640x480 with 1 Axes>"
      ]
     },
     "metadata": {},
     "output_type": "display_data"
    }
   ],
   "source": [
    "import matplotlib.pyplot as plt\n",
    "plt.plot(history.history[\"loss\"])\n",
    "plt.plot(history.history[\"val_loss\"])"
   ]
  },
  {
   "cell_type": "code",
   "execution_count": 238,
   "id": "6851be61-8ff5-421e-9e6e-2a19d7de9e53",
   "metadata": {},
   "outputs": [
    {
     "data": {
      "text/plain": [
       "[<matplotlib.lines.Line2D at 0x205e79de610>]"
      ]
     },
     "execution_count": 238,
     "metadata": {},
     "output_type": "execute_result"
    },
    {
     "data": {
      "image/png": "[encoded data removed]",
      "text/plain": [
       "<Figure size 640x480 with 1 Axes>"
      ]
     },
     "metadata": {},
     "output_type": "display_data"
    }
   ],
   "source": [
    "plt.plot(history.history[\"accuracy\"])\n",
    "plt.plot(history.history[\"val_accuracy\"])"
   ]
  },
  {
   "cell_type": "code",
   "execution_count": null,
   "id": "3f1e7173-749f-447e-ac56-ae5d34934ae2",
   "metadata": {},
   "outputs": [],
   "source": []
  }
 ],
 "metadata": {
  "kernelspec": {
   "display_name": "Python 3 (ipykernel)",
   "language": "python",
   "name": "python3"
  },
  "language_info": {
   "codemirror_mode": {
    "name": "ipython",
    "version": 3
   },
   "file_extension": ".py",
   "mimetype": "text/x-python",
   "name": "python",
   "nbconvert_exporter": "python",
   "pygments_lexer": "ipython3",
   "version": "3.11.7"
  }
 },
 "nbformat": 4,
 "nbformat_minor": 5
}
